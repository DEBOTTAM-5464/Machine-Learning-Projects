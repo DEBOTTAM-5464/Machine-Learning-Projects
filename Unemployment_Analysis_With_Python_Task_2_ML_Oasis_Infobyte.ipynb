{
  "nbformat": 4,
  "nbformat_minor": 0,
  "metadata": {
    "colab": {
      "provenance": []
    },
    "kernelspec": {
      "name": "python3",
      "display_name": "Python 3"
    },
    "language_info": {
      "name": "python"
    }
  },
  "cells": [
    {
      "cell_type": "code",
      "execution_count": null,
      "metadata": {
        "colab": {
          "base_uri": "https://localhost:8080/"
        },
        "id": "e9WzyJMi33ix",
        "outputId": "3a42ada7-bded-47e5-831f-027b6001ae2a"
      },
      "outputs": [
        {
          "output_type": "stream",
          "name": "stdout",
          "text": [
            "✅ Merged file created: merged_unemployment_data.csv\n"
          ]
        }
      ],
      "source": [
        "import pandas as pd\n",
        "\n",
        "# Load the CSV files\n",
        "file1 = pd.read_csv(\"/content/Unemployment in India.csv\")\n",
        "file2 = pd.read_csv(\"/content/Unemployment_Rate_upto_11_2020.csv\")\n",
        "\n",
        "# Clean column names\n",
        "file1.columns = file1.columns.str.strip()\n",
        "file2.columns = file2.columns.str.strip()\n",
        "\n",
        "# Convert 'Date' columns to datetime\n",
        "file1['Date'] = pd.to_datetime(file1['Date'], dayfirst=True, errors='coerce')\n",
        "file2['Date'] = pd.to_datetime(file2['Date'], dayfirst=True, errors='coerce')\n",
        "\n",
        "# Merge on 'Region' and 'Date'\n",
        "merged_df = pd.merge(file1, file2, on=['Region', 'Date'], how='outer', suffixes=('_file1', '_file2'))\n",
        "\n",
        "# Rename columns (optional but helpful)\n",
        "merged_df = merged_df.rename(columns={\n",
        "    \"Estimated Unemployment Rate (%)_file1\": \"Unemployment Rate (File1)\",\n",
        "    \"Estimated Unemployment Rate (%)_file2\": \"Unemployment Rate (File2)\",\n",
        "    \"Estimated Employed_file1\": \"Employed (File1)\",\n",
        "    \"Estimated Employed_file2\": \"Employed (File2)\",\n",
        "    \"Estimated Labour Participation Rate (%)_file1\": \"Labour Participation Rate (File1)\",\n",
        "    \"Estimated Labour Participation Rate (%)_file2\": \"Labour Participation Rate (File2)\"\n",
        "})\n",
        "\n",
        "# Save to a new CSV file\n",
        "merged_df.to_csv(\"merged_unemployment_data.csv\", index=False)\n",
        "\n",
        "print(\"✅ Merged file created: merged_unemployment_data.csv\")\n"
      ]
    },
    {
      "cell_type": "code",
      "source": [
        "import pandas as pd\n",
        "import numpy as np\n",
        "from sklearn.model_selection import train_test_split\n",
        "from sklearn.preprocessing import LabelEncoder\n",
        "from sklearn.metrics import mean_absolute_error, mean_squared_error, r2_score\n",
        "from sklearn.linear_model import LinearRegression\n",
        "from sklearn.ensemble import RandomForestRegressor, GradientBoostingRegressor\n",
        "from sklearn.tree import DecisionTreeRegressor\n",
        "from sklearn.svm import SVR\n",
        "from sklearn.neighbors import KNeighborsRegressor\n",
        "\n",
        "# Load data\n",
        "df = pd.read_csv(\"/content/merged_unemployment_data.csv\")\n",
        "df = df[['Region', 'Date', 'Unemployment Rate (File1)', 'Employed (File1)', 'Labour Participation Rate (File1)']]\n",
        "df.dropna(inplace=True)\n",
        "\n",
        "# Feature Engineering\n",
        "df['Date'] = pd.to_datetime(df['Date'])\n",
        "df['Month'] = df['Date'].dt.month\n",
        "df['Year'] = df['Date'].dt.year\n",
        "df['Region'] = LabelEncoder().fit_transform(df['Region'])\n",
        "\n",
        "# Features and Target\n",
        "X = df[['Region', 'Month', 'Year', 'Employed (File1)', 'Labour Participation Rate (File1)']]\n",
        "y = df['Unemployment Rate (File1)']\n",
        "X_train, X_test, y_train, y_test = train_test_split(X, y, test_size=0.2, random_state=42)\n",
        "\n",
        "# Models\n",
        "models = {\n",
        "    \"Linear Regression\": LinearRegression(),\n",
        "    \"Decision Tree\": DecisionTreeRegressor(),\n",
        "    \"Random Forest\": RandomForestRegressor(),\n",
        "    \"Gradient Boosting\": GradientBoostingRegressor(),\n",
        "    \"Support Vector Regressor\": SVR(),\n",
        "    \"KNN\": KNeighborsRegressor()\n",
        "}\n",
        "\n",
        "# Evaluation\n",
        "for name, model in models.items():\n",
        "    model.fit(X_train, y_train)\n",
        "    preds = model.predict(X_test)\n",
        "    print(f\"\\n{name}\")\n",
        "    print(\"MAE:\", mean_absolute_error(y_test, preds))\n",
        "    print(\"MSE:\", mean_squared_error(y_test, preds))\n",
        "    print(\"RMSE:\", np.sqrt(mean_squared_error(y_test, preds)))\n",
        "    print(\"R² Score:\", r2_score(y_test, preds))\n"
      ],
      "metadata": {
        "id": "i9TYzPVm4wiv",
        "colab": {
          "base_uri": "https://localhost:8080/"
        },
        "outputId": "e61a3fdf-d7f6-4efd-9c74-8a301aa1ac25"
      },
      "execution_count": 1,
      "outputs": [
        {
          "output_type": "stream",
          "name": "stdout",
          "text": [
            "\n",
            "Linear Regression\n",
            "MAE: 7.833878615256611\n",
            "MSE: 129.27336592173006\n",
            "RMSE: 11.369844586524922\n",
            "R² Score: 0.05394995908935751\n",
            "\n",
            "Decision Tree\n",
            "MAE: 4.775472972972973\n",
            "MSE: 88.87384662162162\n",
            "RMSE: 9.427292645379246\n",
            "R² Score: 0.349602250759233\n",
            "\n",
            "Random Forest\n",
            "MAE: 4.158274324324324\n",
            "MSE: 59.71671387594592\n",
            "RMSE: 7.727659016542197\n",
            "R² Score: 0.5629803617893475\n",
            "\n",
            "Gradient Boosting\n",
            "MAE: 4.562774190936859\n",
            "MSE: 59.9290251945271\n",
            "RMSE: 7.741383932768552\n",
            "R² Score: 0.5614266223148827\n",
            "\n",
            "Support Vector Regressor\n",
            "MAE: 7.7689068457759705\n",
            "MSE: 145.83780599569894\n",
            "RMSE: 12.076332472886747\n",
            "R² Score: -0.06727214337471987\n",
            "\n",
            "KNN\n",
            "MAE: 7.747932432432433\n",
            "MSE: 134.64101927027028\n",
            "RMSE: 11.603491684414234\n",
            "R² Score: 0.014668327998733854\n"
          ]
        }
      ]
    }
  ]
}